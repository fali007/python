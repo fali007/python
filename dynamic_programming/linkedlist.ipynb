{
 "cells": [
  {
   "cell_type": "code",
   "execution_count": 18,
   "metadata": {},
   "outputs": [],
   "source": [
    "class node:\n",
    "    def __init__(self,data=None):\n",
    "        self.data=data\n",
    "        self.link=None\n",
    "\n",
    "class List:\n",
    "    def __init__(self):\n",
    "        self.head=None\n",
    "    def display(self):\n",
    "        p=self.head\n",
    "        while p is not None:\n",
    "            print(p.data)\n",
    "            p=p.link\n",
    "    def insert_beg(self,data):\n",
    "        temp=node(data)\n",
    "        temp.link=self.head\n",
    "        self.head=temp\n",
    "    def insert_end(self,data):\n",
    "        temp=node(data)\n",
    "        p=self.head\n",
    "        while p.link is not None:\n",
    "            p=p.link\n",
    "        p.link=temp"
   ]
  },
  {
   "cell_type": "code",
   "execution_count": 19,
   "metadata": {},
   "outputs": [
    {
     "name": "stdout",
     "output_type": "stream",
     "text": [
      "sun\n",
      "mon\n",
      "tue\n",
      "wed\n",
      "thu\n"
     ]
    }
   ],
   "source": [
    "a=List()\n",
    "a.head=node('mon')\n",
    "e2=node('tue')\n",
    "e3=node('wed')\n",
    "a.head.link=e2\n",
    "e2.link=e3\n",
    "a.insert_beg('sun')\n",
    "a.insert_end('thu')\n",
    "a.display()"
   ]
  },
  {
   "cell_type": "code",
   "execution_count": null,
   "metadata": {},
   "outputs": [],
   "source": []
  }
 ],
 "metadata": {
  "kernelspec": {
   "display_name": "Python 3",
   "language": "python",
   "name": "python3"
  },
  "language_info": {
   "codemirror_mode": {
    "name": "ipython",
    "version": 3
   },
   "file_extension": ".py",
   "mimetype": "text/x-python",
   "name": "python",
   "nbconvert_exporter": "python",
   "pygments_lexer": "ipython3",
   "version": "3.6.8"
  }
 },
 "nbformat": 4,
 "nbformat_minor": 2
}
