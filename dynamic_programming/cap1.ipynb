{
 "cells": [
  {
   "cell_type": "code",
   "execution_count": 49,
   "metadata": {},
   "outputs": [],
   "source": [
    "def cap(array):\n",
    "    k=0\n",
    "    for i in range(0,len(array)):\n",
    "        for j in range(0,3):\n",
    "            out[k][i]=array[i][j]\n",
    "            k+=1\n",
    "    return out"
   ]
  },
  {
   "cell_type": "code",
   "execution_count": 87,
   "metadata": {},
   "outputs": [],
   "source": [
    "def cap1(array):\n",
    "    k=0\n",
    "    for i in range(0,len(array[0])):\n",
    "        for l in range(0,3):\n",
    "            for m in range(0,3):\n",
    "                out[k][0]=array[0][i]\n",
    "                out[k][1]=array[1][l]\n",
    "                out[k][2]=array[2][m]\n",
    "                k+=1\n",
    "    return out\n",
    "def classifier(k):\n",
    "    out=cap1(k)\n",
    "    for i in range(0,27):\n",
    "        if out[i][0]!=out[i][1] and out[i][0]!=out[i][2] and out[i][1]!=out[i][2]:\n",
    "            print(out[i])"
   ]
  },
  {
   "cell_type": "code",
   "execution_count": 88,
   "metadata": {},
   "outputs": [
    {
     "name": "stdout",
     "output_type": "stream",
     "text": [
      "[1, 4, 9]\n",
      "[1, 5, 4]\n",
      "[1, 5, 9]\n",
      "[1, 6, 4]\n",
      "[1, 6, 9]\n",
      "[2, 4, 1]\n",
      "[2, 4, 9]\n",
      "[2, 5, 1]\n",
      "[2, 5, 4]\n",
      "[2, 5, 9]\n",
      "[2, 6, 1]\n",
      "[2, 6, 4]\n",
      "[2, 6, 9]\n",
      "[3, 4, 1]\n",
      "[3, 4, 9]\n",
      "[3, 5, 1]\n",
      "[3, 5, 4]\n",
      "[3, 5, 9]\n",
      "[3, 6, 1]\n",
      "[3, 6, 4]\n",
      "[3, 6, 9]\n"
     ]
    }
   ],
   "source": [
    "a=[[1,2,3],[4,5,6],[1,4,9]]\n",
    "out=[[None for x in range(3)]for y in range(27)]\n",
    "classifier(a)"
   ]
  },
  {
   "cell_type": "code",
   "execution_count": null,
   "metadata": {},
   "outputs": [],
   "source": []
  },
  {
   "cell_type": "code",
   "execution_count": null,
   "metadata": {},
   "outputs": [],
   "source": []
  }
 ],
 "metadata": {
  "kernelspec": {
   "display_name": "Python 3",
   "language": "python",
   "name": "python3"
  },
  "language_info": {
   "codemirror_mode": {
    "name": "ipython",
    "version": 3
   },
   "file_extension": ".py",
   "mimetype": "text/x-python",
   "name": "python",
   "nbconvert_exporter": "python",
   "pygments_lexer": "ipython3",
   "version": "3.6.8"
  }
 },
 "nbformat": 4,
 "nbformat_minor": 2
}
