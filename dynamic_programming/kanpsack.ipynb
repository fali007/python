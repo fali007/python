{
 "cells": [
  {
   "cell_type": "code",
   "execution_count": 31,
   "metadata": {},
   "outputs": [],
   "source": [
    "def knapsack(value,weight,z):\n",
    "    a=0\n",
    "    b=0\n",
    "    c=0\n",
    "    k=0\n",
    "    out=[[0 for x in range(3)]for y in range(20)]\n",
    "    f=[[None for x in range(2)]for y in range(20)]\n",
    "    for a in range(0,z//weight[0]+1):\n",
    "        for b in range(0,z//weight[0]+1):\n",
    "            for c in range(0,z//weight[0]+1):\n",
    "                z1=a*weight[0]+b*weight[1]+c*weight[2]\n",
    "                if z1<z+1:\n",
    "                    out[k]=[a,b,c]\n",
    "                    k+=1\n",
    "    for i in range(0,20):\n",
    "        f=out[i][0]*value[0]+out[i][1]*value[1]+out[i][2]*value[2]\n",
    "        print(f,out[i])"
   ]
  },
  {
   "cell_type": "code",
   "execution_count": 32,
   "metadata": {},
   "outputs": [
    {
     "name": "stdout",
     "output_type": "stream",
     "text": [
      "0 [0, 0, 0]\n",
      "120 [0, 0, 1]\n",
      "100 [0, 1, 0]\n",
      "220 [0, 1, 1]\n",
      "200 [0, 2, 0]\n",
      "60 [1, 0, 0]\n",
      "180 [1, 0, 1]\n",
      "160 [1, 1, 0]\n",
      "260 [1, 2, 0]\n",
      "120 [2, 0, 0]\n",
      "240 [2, 0, 1]\n",
      "220 [2, 1, 0]\n",
      "180 [3, 0, 0]\n",
      "280 [3, 1, 0]\n",
      "240 [4, 0, 0]\n",
      "300 [5, 0, 0]\n",
      "0 [0, 0, 0]\n",
      "0 [0, 0, 0]\n",
      "0 [0, 0, 0]\n",
      "0 [0, 0, 0]\n",
      "None\n"
     ]
    }
   ],
   "source": [
    "value=[60,100,120]\n",
    "weight=[10,20,30]\n",
    "z=50\n",
    "print(knapsack(value,weight,z))"
   ]
  },
  {
   "cell_type": "code",
   "execution_count": null,
   "metadata": {},
   "outputs": [],
   "source": []
  }
 ],
 "metadata": {
  "kernelspec": {
   "display_name": "Python 3",
   "language": "python",
   "name": "python3"
  },
  "language_info": {
   "codemirror_mode": {
    "name": "ipython",
    "version": 3
   },
   "file_extension": ".py",
   "mimetype": "text/x-python",
   "name": "python",
   "nbconvert_exporter": "python",
   "pygments_lexer": "ipython3",
   "version": "3.6.8"
  }
 },
 "nbformat": 4,
 "nbformat_minor": 2
}
